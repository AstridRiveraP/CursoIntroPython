{
  "cells": [
    {
      "cell_type": "markdown",
      "metadata": {},
      "source": [
        "# Ejercicio: Uso de funciones en Python"
      ]
    },
    {
      "cell_type": "markdown",
      "metadata": {},
      "source": [
        "### Ejercicio 1: Trabajar con argumentos en funciones\n",
        "\n",
        "Los argumentos requeridos en las funciones se utilizan cuando las funciones necesitan que esos argumentos funcionen correctamente. En este ejercicio, construirás un informe de combustible que requiere información de varias ubicaciones de combustible en todo el cohete.\n",
        "\n"
      ]
    },
    {
      "cell_type": "markdown",
      "metadata": {},
      "source": [
        "> **TIP**\n",
        "> Dedica unos minutos para tratar de encontrar una solución. Luego desplázate hacia abajo hasta la parte inferior para ver si has logrado compilar el programa de acuerdo con las especificaciones\n",
        "\n",
        "Comienza por crear una función que necesite tres lecturas de combustible y devuelva un informe:"
      ]
    },
    {
      "cell_type": "code",
      "execution_count": 19,
      "metadata": {},
      "outputs": [],
      "source": [
        "# Función para leer 3 tanques de combustible y muestre el promedio\n",
        "def construir_informe(combustible1, combustible2, combustible3):\n",
        "    return f\"\"\"INFORME DE COMBUSTIBLE\n",
        "Lectura 1: {combustible1}%\n",
        "Lectura 2: {combustible2}%\n",
        "Lectura 3: {combustible3}%\n",
        "Promedio de lecturas: {(combustible1 + combustible2 + combustible3)/3}\"\"\"\n",
        "\n"
      ]
    },
    {
      "cell_type": "markdown",
      "metadata": {},
      "source": [
        "Ahora que hemos definido la función de informes, vamos a comprobarlo. Para esta misión, los tanques no están llenos:"
      ]
    },
    {
      "cell_type": "code",
      "execution_count": 20,
      "metadata": {},
      "outputs": [
        {
          "name": "stdout",
          "output_type": "stream",
          "text": [
            "INFORME DE COMBUSTIBLE\n",
            "Lectura 1: 45%\n",
            "Lectura 2: 60%\n",
            "Lectura 3: 70%\n",
            "Promedio de lecturas: 58.333333333333336\n"
          ]
        }
      ],
      "source": [
        "\n",
        "# Llamamos a la función que genera el reporte print(funcion(tanque1, tanque2, tanque3))\n",
        "print(construir_informe(45,60,70))"
      ]
    },
    {
      "cell_type": "markdown",
      "metadata": {},
      "source": [
        "En lugar de simplemente crear el informe, la función también está calculando el promedio. Mejora la legibilidad extrayendo el cálculo promedio de la función en una nueva función para que el promedio se pueda hacer de forma independiente:"
      ]
    },
    {
      "cell_type": "code",
      "execution_count": 16,
      "metadata": {},
      "outputs": [
        {
          "data": {
            "text/plain": [
              "58.333333333333336"
            ]
          },
          "execution_count": 16,
          "metadata": {},
          "output_type": "execute_result"
        }
      ],
      "source": [
        "# Función promedio \n",
        "def promedio(*tanques):\n",
        "    return sum(tanques)/len(tanques)\n",
        "promedio(45,60,70)"
      ]
    },
    {
      "cell_type": "markdown",
      "metadata": {},
      "source": [
        "Ahora actualiza la función de informes para llamando a la nueva función del promedio:\n"
      ]
    },
    {
      "cell_type": "code",
      "execution_count": 22,
      "metadata": {},
      "outputs": [
        {
          "name": "stdout",
          "output_type": "stream",
          "text": [
            "INFORME DE COMBUSTIBLE\n",
            "Lectura 1: 45%\n",
            "Lectura 2: 60%\n",
            "Lectura 3: 70%\n",
            "Promedio de lecturas: 58.333333333333336\n"
          ]
        }
      ],
      "source": [
        "# Actualiza la función\n",
        "\n",
        "def construir_informe(combustible1, combustible2, combustible3):\n",
        "    return f\"\"\"INFORME DE COMBUSTIBLE\n",
        "Lectura 1: {combustible1}%\n",
        "Lectura 2: {combustible2}%\n",
        "Lectura 3: {combustible3}%\n",
        "Promedio de lecturas: {promedio(combustible1,combustible2,combustible3)}\"\"\"\n",
        "\n",
        "\n",
        "print(construir_informe(45,60,70))\n"
      ]
    },
    {
      "cell_type": "markdown",
      "metadata": {},
      "source": [
        "> Recuerda: Lo importante es intentarlo, puedes auxiliarte de internet, libros, etc. El objetivo de una kata es la comprobación de la comprensión de la lección y su aplicación inmediata a la resolución de problemas. Go for it!"
      ]
    },
    {
      "cell_type": "markdown",
      "metadata": {},
      "source": [
        "## Ejercicio 2: Trabajo con argumentos de palabra clave"
      ]
    },
    {
      "cell_type": "markdown",
      "metadata": {},
      "source": [
        "### Ejercicio : Trabajar con argumentos de palabras clave en funciones\n",
        "En este ejercicio, construirás un informe de cohete que requiere varias piezas de información, como el tiempo hasta el destino, el combustible a la izquierda y el nombre del destino. Comienza por crear una función que creará un informe preciso de la misión:"
      ]
    },
    {
      "cell_type": "code",
      "execution_count": 25,
      "metadata": {},
      "outputs": [
        {
          "name": "stdout",
          "output_type": "stream",
          "text": [
            "Informe de misión a Luna:\n",
            "Tiempo al destino: 65 min\n",
            "Combustible total: 500000 L\n"
          ]
        }
      ],
      "source": [
        "# Función con un informe preciso de la misión. \n",
        "# Considera hora de prelanzamiento, tiempo de vuelo, destino, tanque externo y tanque interno\n",
        "\n",
        "def informe_cohete(prelanzamiento, tiempo_vuelo, destino, tanque_externo, tanque_interno):\n",
        "    return f\"\"\"Informe de misión a {destino}\n",
        "Tiempo al destino: {prelanzamiento + tiempo_vuelo} min\n",
        "Combustible total: {tanque_externo + tanque_interno} L\"\"\"\n",
        "\n",
        "print(informe_cohete(14, 51, \"Luna\", 200000, 300000))"
      ]
    },
    {
      "cell_type": "markdown",
      "metadata": {},
      "source": [
        "La función es problemática porque no se puede adaptar para minutos adicionales o tanques adicionales de combustible. Hazlo más flexible permitiendo cualquier número de pasos basados en el tiempo y cualquier número de tanques. En lugar de usar `*args` y `**kwargs`, aprovecha el hecho de que puedes usar cualquier nombre que desees. Asegurate que la función sea más legible mediante el uso de nombres de variables que están asociados con las entradas, como `*minutes` y `**fuel_reservoirs`:"
      ]
    },
    {
      "cell_type": "code",
      "execution_count": 27,
      "metadata": {},
      "outputs": [
        {
          "name": "stdout",
          "output_type": "stream",
          "text": [
            "Informe de misión a Luna\n",
            "Tiempo al destino: 76 min\n",
            "Combustible total: 500000 L\n"
          ]
        }
      ],
      "source": [
        "# Escribe tu nueva función de reporte considerando lo anterior\n",
        "def informe_cohete(destino, *minutes, **fuel_reservoirs):\n",
        "    return f\"\"\"Informe de misión a {destino}\n",
        "Tiempo al destino: {sum(minutes)} min\n",
        "Combustible total: {sum(fuel_reservoirs.values())} L\"\"\"\n",
        "\n",
        "print(informe_cohete(\"Luna\", 10, 15, 51, interno = 200000,externo= 300000))\n",
        "\n"
      ]
    },
    {
      "cell_type": "markdown",
      "metadata": {},
      "source": [
        "Debido a que el combustible que queda en los tanques es específico de cada tanque, actualiza la función para usar el nombre de cada tanque en el informe:"
      ]
    },
    {
      "cell_type": "code",
      "execution_count": 34,
      "metadata": {},
      "outputs": [
        {
          "name": "stdout",
          "output_type": "stream",
          "text": [
            "Informe de misión a Luna\n",
            "--------------------------------------------------\n",
            "Tiempo al destino: 76 min\n",
            "Combustible total: 500000 L\n",
            "interno: 200000 L\n",
            "externo: 300000 L\n",
            "\n"
          ]
        }
      ],
      "source": [
        "# Escribe tu nueva función\n",
        "# Escribe tu nueva función de reporte considerando lo anterior\n",
        "def informe_cohete(destino, *minutes, **fuel_reservoirs):\n",
        "    s =''\n",
        "    for key, value in fuel_reservoirs.items():\n",
        "        s+= f'{key}: {value} L\\n'\n",
        "\n",
        "    return f\"\"\"Informe de misión a {destino}\n",
        "{'-'*50}\n",
        "Tiempo al destino: {sum(minutes)} min\n",
        "Combustible total: {sum(fuel_reservoirs.values())} L\n",
        "{s}\"\"\"\n",
        "\n",
        "print(informe_cohete(\"Luna\", 10, 15, 51, interno = 200000,externo= 300000))"
      ]
    }
  ],
  "metadata": {
    "interpreter": {
      "hash": "205095b8b86ea82a021a8fc2ffba2b3bc9f8d0be25999901963b225939f75778"
    },
    "kernelspec": {
      "display_name": "Python 3.8.10 64-bit ('tmp': conda)",
      "name": "python3"
    },
    "language_info": {
      "codemirror_mode": {
        "name": "ipython",
        "version": 3
      },
      "file_extension": ".py",
      "mimetype": "text/x-python",
      "name": "python",
      "nbconvert_exporter": "python",
      "pygments_lexer": "ipython3",
      "version": "3.7.10"
    },
    "nteract": {
      "version": "nteract-front-end@1.0.0"
    },
    "orig_nbformat": 4
  },
  "nbformat": 4,
  "nbformat_minor": 2
}
